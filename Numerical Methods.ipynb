{
 "cells": [
  {
   "cell_type": "markdown",
   "metadata": {},
   "source": [
    "## Numerical integration:\n",
    "\n",
    "- Choose a function on a closed interval (the function *cannot* be a low order polynomial, but need not be too complicated). \n",
    "Choose a function that you can calculate the integral for analytically.\n",
    "\n",
    "\n",
    "- Implement *two different* numerical integration methods, one with fixed interval sizes, one with Gaussian quadrature, \n",
    "to integrate this function. These don't need to be of very high order. \n",
    "You should write your code such that you can change the number of sub-intervals (and number of evaluation points).\n",
    "\n",
    "\n",
    "- Compare the difference between the two numerical integrals, and their difference with the correct/analytic answer, as a function of the number sub-intervals. \n",
    "Is the difference between the two estimates a good indicator of the actual error?"
   ]
  },
  {
   "cell_type": "markdown",
   "metadata": {},
   "source": [
    "## My function of choice: $ f(x) = xsin(x)$ \n",
    " - Derivative: $ f'(x) = sin(x) + xcos(x) $\n",
    " \n",
    " - Integral: $\\int \\mathrm{xsin(x)} \\mathrm{d}x$ = $ sin(x) - xcos(x) $\n",
    " \n"
   ]
  },
  {
   "cell_type": "markdown",
   "metadata": {},
   "source": [
    " # Methods:\n",
    " \n",
    " - Midpoint rule\n",
    " - Gaussian Quadrature"
   ]
  },
  {
   "cell_type": "code",
   "execution_count": 299,
   "metadata": {},
   "outputs": [],
   "source": [
    "import numpy as np\n",
    "from matplotlib import pyplot as plt\n",
    "from scipy.special import legendre\n",
    "from numpy.polynomial.legendre import legroots as leg\n",
    "from scipy.special import roots_legendre as rootleg\n",
    "\n",
    "# Our function to be integrated, takes a value\n",
    "def Function(value):\n",
    "    return(value*np.sin(value))\n",
    "\n",
    "\n",
    "# rule that numerically integrates according: takes a val, a lower bound and upper bound to be intgrated \n",
    "def Midpoint(step, low, high):\n",
    "    \n",
    "    value1 = []\n",
    "    value2 = 0\n",
    "    width  = (high-low)/step  \n",
    "     \n",
    "    for n in range (1,step+1):                      #to offset the initial value 0 which python counts from.\n",
    "        sub_int_mid = low + (n-1/2)*width           #Midpoint of each subinterval\n",
    "        value1.append(Function(sub_int_mid))\n",
    "    value2          = width*np.sum(value1)          #approximated area\n",
    "    return(value2)\n",
    "\n",
    "#Implementation of trapazoidal rule\n",
    "def Trap(step, low, high):\n",
    "    width = (high-low)/step\n",
    "    value = [Function(low)]\n",
    "    \n",
    "    for i in range(1,step):\n",
    "        value.append(2*Function(low + i*width))\n",
    "    value.append(Function(high))\n",
    "    return(0.5*width*np.sum(value))\n",
    "\n",
    "#Implementation of Gaussian quadrature on arbitrary intervals\n",
    "def Gauss(step, low, high):\n",
    "    width  = 0.5*(low + high)\n",
    "    roots  = rootleg(step)[0]\n",
    "    weights = rootleg(step)[1]\n",
    "    value  = []\n",
    "    \n",
    "    for i in range(len(roots)):\n",
    "        t = roots[i]\n",
    "        legen = 0.5*(high-low)*weights[i]*Function(0.5*(low + high) + 0.5*(high-low)*t)\n",
    "        value.append(legen)\n",
    "    return(np.sum(value)) \n",
    "\n",
    "#Calculates the relative error of the different rules (fun)\n",
    "def Relative_Error(fun, step, low, high):\n",
    "    integral_high   = np.sin(high)-high*np.cos(high)\n",
    "    integral_low    = np.sin(low)-low*np.cos(low)\n",
    "    integral        = integral_high - integral_low\n",
    "    return(abs(integral-fun(step,low,high))/integral)*100\n"
   ]
  },
  {
   "cell_type": "code",
   "execution_count": 275,
   "metadata": {},
   "outputs": [
    {
     "name": "stdout",
     "output_type": "stream",
     "text": [
      "The value of of the integral using the trap method is: -6.357038455828771\n",
      "The relative error of the trap method is: -0.07673509820067714\n",
      "\n",
      "\n",
      "The value of of the integral using the midpoint method is: -6.364361473352504\n",
      "The relative error of the midpoint method is: -0.038371932374775757\n",
      "\n",
      "\n",
      "The value of of the integral using the Gauss method is: -6.361920281604386\n",
      "The relative error of the midpoint Gauss is: -1.2006334677766333e-12\n"
     ]
    }
   ],
   "source": [
    "print(\"The value of of the integral using the trap method is: \" + str(Trap(50,2,7)))\n",
    "print(\"The relative error of the trap method is: \"+ str(Relative_Error(Trap,50,2,7)))\n",
    "print('\\n')\n",
    "\n",
    "print(\"The value of of the integral using the midpoint method is: \" + str(Midpoint(50,2,7)))\n",
    "print(\"The relative error of the midpoint method is: \" + str(Relative_Error(Midpoint,50,2,7)))\n",
    "print('\\n')\n",
    "\n",
    "print(\"The value of of the integral using the Gauss method is: \" + str(Gauss(50,2,7)))\n",
    "print(\"The relative error of the midpoint Gauss is: \" + str(Relative_Error(Gauss,50,2,7)))"
   ]
  },
  {
   "cell_type": "markdown",
   "metadata": {},
   "source": [
    "## Discussion:\n",
    "\n",
    "It's clear that in the large limit, they all tend to to be equally as valid, meaning, they are well within a percent of the \n",
    "answer compared to the \"analyticaly\" computed counterpart. The quadrature method is the best of the three.\n",
    "However, depending on the area of integration and the relative subintervals used, the differences will be noticle to within a few percent. Thus all the methods have their drawbacks depending on the accuracy and effiency one required. For example:"
   ]
  },
  {
   "cell_type": "code",
   "execution_count": 279,
   "metadata": {},
   "outputs": [
    {
     "name": "stdout",
     "output_type": "stream",
     "text": [
      "The value of of the integral using the trap method is: -5.866213797219915\n",
      "The relative error of the trap method is: -7.791774534140972\n",
      "\n",
      "\n",
      "The value of of the integral using the midpoint method is: -6.61263833421307\n",
      "The relative error of the midpoint method is: -3.9409178598751065\n",
      "\n",
      "\n",
      "The value of of the integral using the Gauss method is: -6.361959971118862\n",
      "The relative error of the midpoint Gauss is: -0.0006238606080603558\n"
     ]
    }
   ],
   "source": [
    "print(\"The value of of the integral using the trap method is: \" + str(Trap(5,2,7)))\n",
    "print(\"The relative error of the trap method is: \"+ str(Relative_Error(Trap,5,2,7)))\n",
    "print('\\n')\n",
    "\n",
    "print(\"The value of of the integral using the midpoint method is: \" + str(Midpoint(5,2,7)))\n",
    "print(\"The relative error of the midpoint method is: \" + str(Relative_Error(Midpoint,5,2,7)))\n",
    "print('\\n')\n",
    "\n",
    "print(\"The value of of the integral using the Gauss method is: \" + str(Gauss(5,2,7)))\n",
    "print(\"The relative error of the midpoint Gauss is: \" + str(Relative_Error(Gauss,5,2,7)))"
   ]
  },
  {
   "cell_type": "markdown",
   "metadata": {},
   "source": [
    "\n",
    "Thus, if one requires a solution to within a few percent, the Gauss method is computational more demanding. This is rather apparent given what is required: special legendre functions and weights - roots to those function. Whereas, the trapezoidal simply requires the integrand and a decent amount of sub-interval for a given region that is to be integrated. In either case, the quadrature method will give you an answer that's most acurate granted one takes the appropriate amount of polynomial degree for a given decimal requirement. "
   ]
  }
 ],
 "metadata": {
  "kernelspec": {
   "display_name": "Python 3",
   "language": "python",
   "name": "python3"
  },
  "language_info": {
   "codemirror_mode": {
    "name": "ipython",
    "version": 3
   },
   "file_extension": ".py",
   "mimetype": "text/x-python",
   "name": "python",
   "nbconvert_exporter": "python",
   "pygments_lexer": "ipython3",
   "version": "3.8.5"
  }
 },
 "nbformat": 4,
 "nbformat_minor": 4
}
